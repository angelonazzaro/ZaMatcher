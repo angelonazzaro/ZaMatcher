{
 "cells": [
  {
   "cell_type": "code",
   "execution_count": 1,
   "id": "390d0355-557e-4687-82c2-e3ce9097d834",
   "metadata": {},
   "outputs": [
    {
     "name": "stdout",
     "output_type": "stream",
     "text": [
      "Sex distribution: \n",
      "M    50.0\n",
      "F    50.0\n",
      "Name: sex, dtype: float64\n",
      "Searching sex distribution: \n",
      "M    33.53\n",
      "F    33.44\n",
      "B    33.03\n",
      "Name: searching_sex, dtype: float64\n"
     ]
    }
   ],
   "source": [
    "import pandas as pd\n",
    "import random\n",
    "from faker import Faker\n",
    "\n",
    "# CONSTANTS SECTION\n",
    "# M: Male, F: Female, B: Bisexual\n",
    "SEX_MALE, SEX_FEMALE = \"M\", \"F\"\n",
    "SEX_ORIENTATION = [\"M\", \"F\", \"B\"]\n",
    "MIN_AGE, MAX_AGE = 18, 40\n",
    "INTEREST_MIN_SIZE, INTEREST_MAX_SIZE = 1, 5\n",
    "DS_SIZE = 100_000\n",
    "\n",
    "faker = Faker()\n",
    "\n",
    "# load datasets \n",
    "# taken from https://simplemaps.com/data/us-cities\n",
    "cities_df = pd.read_csv(\"./us_cities.csv\")\n",
    "# set because we want to avoid duplicate interests\n",
    "interests = pd.read_csv(\"./interests.csv\")['interest'].tolist()\n",
    "\n",
    "ds_list = []\n",
    "\n",
    "for i in range(DS_SIZE):\n",
    "    row = {}\n",
    "\n",
    "    if i % 2 == 0:\n",
    "        row[\"name\"] = faker.first_name_male()\n",
    "        row[\"surname\"] = faker.last_name_male()\n",
    "        row[\"sex\"] = SEX_MALE\n",
    "    else:\n",
    "        row[\"name\"] = faker.first_name_female()\n",
    "        row[\"surname\"] = faker.last_name_female()\n",
    "        row[\"sex\"] = SEX_FEMALE\n",
    "\n",
    "    row[\"searching_sex\"] = random.choice(SEX_ORIENTATION)\n",
    "    row[\"age\"] = random.randrange(MIN_AGE, MAX_AGE)\n",
    "    row_interests_size = random.randrange(INTEREST_MIN_SIZE, INTEREST_MAX_SIZE)\n",
    "\n",
    "    row['interests'] = ', '.join(random.sample(interests, row_interests_size))\n",
    "    cities_random_idx = random.randrange(cities_df.index.start, cities_df.index.stop)\n",
    "    row['latitude'] = cities_df['lat'][cities_random_idx]\n",
    "    row['longitude'] = cities_df['lng'][cities_random_idx]\n",
    "\n",
    "    ds_list.append(row)\n",
    "\n",
    "random.shuffle(ds_list)\n",
    "df = pd.DataFrame(ds_list)\n",
    "\n",
    "print(f\"Sex distribution: \\n{df['sex'].value_counts(normalize=True) * 100}\")\n",
    "print(f\"Searching sex distribution: \\n{df['searching_sex'].value_counts(normalize=True) * 100}\")\n",
    "\n",
    "df.to_csv('dataset.csv', index=False, header=True)"
   ]
  }
 ],
 "metadata": {
  "kernelspec": {
   "display_name": "Python 3 (ipykernel)",
   "language": "python",
   "name": "python3"
  },
  "language_info": {
   "codemirror_mode": {
    "name": "ipython",
    "version": 3
   },
   "file_extension": ".py",
   "mimetype": "text/x-python",
   "name": "python",
   "nbconvert_exporter": "python",
   "pygments_lexer": "ipython3",
   "version": "3.10.9"
  }
 },
 "nbformat": 4,
 "nbformat_minor": 5
}
